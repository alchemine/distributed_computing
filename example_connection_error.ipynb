{
 "cells": [
  {
   "cell_type": "markdown",
   "metadata": {},
   "source": [
    "# Import and get arguments"
   ]
  },
  {
   "cell_type": "code",
   "execution_count": 1,
   "metadata": {},
   "outputs": [
    {
     "data": {
      "text/plain": [
       "_StoreAction(option_strings=['--result_dir'], dest='result_dir', nargs=None, const=None, default='result', type=None, choices=None, help='Directory path for saved result', metavar=None)"
      ]
     },
     "execution_count": 1,
     "metadata": {},
     "output_type": "execute_result"
    }
   ],
   "source": [
    "from common import *\n",
    "\n",
    "parser = ArgumentParser(description='Select generated cluster')\n",
    "parser.add_argument('--scheduler', help='Scheduler server', default='server1')\n",
    "parser.add_argument('--ini', help='Server config ini file', default='server_config.ini')\n",
    "parser.add_argument('--result_dir', help='Directory path for saved result', default='result')"
   ]
  },
  {
   "cell_type": "markdown",
   "metadata": {},
   "source": [
    "## 1. Parse arguments"
   ]
  },
  {
   "cell_type": "code",
   "execution_count": 2,
   "metadata": {},
   "outputs": [],
   "source": [
    "# args = parser.parse_args()  # .py version\n",
    "args = parser.parse_args(args=[])  # .ipynb version"
   ]
  },
  {
   "cell_type": "markdown",
   "metadata": {},
   "source": [
    "## 2. Load server config"
   ]
  },
  {
   "cell_type": "code",
   "execution_count": 3,
   "metadata": {},
   "outputs": [],
   "source": [
    "configs = ini2dict(args.ini)"
   ]
  },
  {
   "cell_type": "markdown",
   "metadata": {},
   "source": [
    "## 3. Get client"
   ]
  },
  {
   "cell_type": "code",
   "execution_count": 4,
   "metadata": {},
   "outputs": [
    {
     "name": "stdout",
     "output_type": "stream",
     "text": [
      "<Client: 'tcp://172.17.0.2:8786' processes=12 threads=12, memory=240.00 GiB>\n"
     ]
    }
   ],
   "source": [
    "config_scheduler = configs[args.scheduler]\n",
    "client = Client(f\"{config_scheduler['host']}:{config_scheduler['scheduler_port']}\")\n",
    "print(client)"
   ]
  },
  {
   "cell_type": "markdown",
   "metadata": {},
   "source": [
    "## 4. Run tasks"
   ]
  },
  {
   "cell_type": "markdown",
   "metadata": {},
   "source": [
    "### 4.1 Define task"
   ]
  },
  {
   "cell_type": "code",
   "execution_count": 5,
   "metadata": {},
   "outputs": [],
   "source": [
    "def task(param):\n",
    "    id, transfer_info = param\n",
    "\n",
    "    ## 1. Append entry path to sys.path (current working directory is reset to ~/)\n",
    "    entry_path = '/root/project/distributed_computing'  # dirname(__file__)\n",
    "    sys.path.append(entry_path)\n",
    "\n",
    "    ## 2. Do something\n",
    "    from common import ini2dict\n",
    "    ini2dict('server_config.ini')\n",
    "    sleep(1)\n",
    "    result = dict(id=id)\n",
    "\n",
    "    ## 3. Save result with file\n",
    "    makedirs(transfer_info['result_dir_path'], exist_ok=True)\n",
    "    src_file_path = abspath(join(transfer_info['result_dir_path'], f'{id}.joblib'))\n",
    "    dst_file_path = abspath(join(transfer_info['result_dir_path'], f'[{uname()[1]}]{id}.joblib'))\n",
    "    joblib.dump(result, src_file_path)\n",
    "\n",
    "    ## 4. Transfer\n",
    "    config_scheduler = transfer_info['config_scheduler']\n",
    "    os.system(f\"scp -P {config_scheduler['ssh_port']} {src_file_path} {config_scheduler['username']}@{config_scheduler['host']}:{dst_file_path}\")\n",
    "    os.remove(src_file_path)"
   ]
  },
  {
   "cell_type": "markdown",
   "metadata": {},
   "source": [
    "### 4.2 Set parameters"
   ]
  },
  {
   "cell_type": "code",
   "execution_count": 6,
   "metadata": {},
   "outputs": [],
   "source": [
    "result_dir_path = abspath(args.result_dir)\n",
    "if isdir(result_dir_path):  rmtree(result_dir_path)\n",
    "makedirs(result_dir_path)\n",
    "ids           = range(10)\n",
    "transfer_info = dict(result_dir_path=result_dir_path, config_scheduler=config_scheduler)\n",
    "params        = [(id, transfer_info) for id in ids]"
   ]
  },
  {
   "cell_type": "markdown",
   "metadata": {},
   "source": [
    "### 4.3 Run tasks"
   ]
  },
  {
   "cell_type": "code",
   "execution_count": 7,
   "metadata": {},
   "outputs": [
    {
     "name": "stdout",
     "output_type": "stream",
     "text": [
      "- Futures: ['pending', 'pending', 'pending', 'pending', 'pending', 'pending', 'pending', 'pending', 'pending', 'pending']\n"
     ]
    }
   ],
   "source": [
    "s = time()\n",
    "futures = client.map(task, params)\n",
    "print(\"- Futures:\", [future.status for future in futures])"
   ]
  },
  {
   "cell_type": "markdown",
   "metadata": {},
   "source": [
    "## 5. Print result"
   ]
  },
  {
   "cell_type": "code",
   "execution_count": 8,
   "metadata": {},
   "outputs": [
    {
     "name": "stdout",
     "output_type": "stream",
     "text": [
      "* Elapsed time: 1.33s\n",
      "- Results: ['finished', 'finished', 'finished', 'finished', 'finished', 'finished', 'finished', 'finished', 'finished', 'finished']\n",
      "[2080Ti]0.joblib: {'id': 0}\n",
      "[2080Ti]1.joblib: {'id': 1}\n",
      "[2080Ti]5.joblib: {'id': 5}\n",
      "[2080Ti]8.joblib: {'id': 8}\n",
      "[2080Ti]4.joblib: {'id': 4}\n",
      "[2080Ti]2.joblib: {'id': 2}\n",
      "[2080Ti]3.joblib: {'id': 3}\n",
      "[2080Ti]9.joblib: {'id': 9}\n",
      "[2080Ti]6.joblib: {'id': 6}\n",
      "[2080Ti]7.joblib: {'id': 7}\n"
     ]
    }
   ],
   "source": [
    "tasks = list(as_completed(futures))  # wait until all tasks are completed\n",
    "results = [joblib.load(join(result_dir_path, name)) for name in listdir(result_dir_path)]\n",
    "print(f\"* Elapsed time: {time() - s:.2f}s\")\n",
    "print(\"- Results:\", [task.status for task in tasks])\n",
    "for name, result in zip(listdir(result_dir_path), results):\n",
    "    print(f\"{name}: {result}\")"
   ]
  }
 ],
 "metadata": {
  "kernelspec": {
   "display_name": "Python 3",
   "language": "python",
   "name": "python3"
  },
  "language_info": {
   "codemirror_mode": {
    "name": "ipython",
    "version": 3
   },
   "file_extension": ".py",
   "mimetype": "text/x-python",
   "name": "python",
   "nbconvert_exporter": "python",
   "pygments_lexer": "ipython3",
   "version": "3.8.12"
  }
 },
 "nbformat": 4,
 "nbformat_minor": 1
}